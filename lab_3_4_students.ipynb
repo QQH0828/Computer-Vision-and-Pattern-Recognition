{
  "cells": [
    {
      "cell_type": "markdown",
      "metadata": {
        "id": "view-in-github",
        "colab_type": "text"
      },
      "source": [
        "<a href=\"https://colab.research.google.com/github/QQH0828/Computer-Vision-and-Pattern-Recognition/blob/main/lab_3_4_students.ipynb\" target=\"_parent\"><img src=\"https://colab.research.google.com/assets/colab-badge.svg\" alt=\"Open In Colab\"/></a>"
      ]
    },
    {
      "cell_type": "markdown",
      "id": "c6611c8e",
      "metadata": {
        "id": "c6611c8e"
      },
      "source": [
        "# Lab Weeks 3 & 4, Students Notebook\n"
      ]
    },
    {
      "cell_type": "markdown",
      "id": "ade76fed",
      "metadata": {
        "id": "ade76fed"
      },
      "source": [
        "### part 1: Loading and Showing"
      ]
    },
    {
      "cell_type": "code",
      "execution_count": null,
      "id": "6a22112f",
      "metadata": {
        "id": "6a22112f",
        "outputId": "8826183f-f6b6-47b9-bd6b-11093640b585"
      },
      "outputs": [
        {
          "name": "stderr",
          "output_type": "stream",
          "text": [
            "[ WARN:0@7.691] global loadsave.cpp:268 findDecoder imread_('es'): can't open/read file: check file path/integrity\n"
          ]
        }
      ],
      "source": [
        "# Python codes to read and process an\n",
        "# image using open cv\n",
        "\n",
        "# importing modules\n",
        "import cv2     # open cv 2 package, thousands of computer vision instructions\n",
        "import numpy as np\n",
        "from matplotlib import pyplot as plt\n",
        "\n",
        "'''\n",
        "# Read Images using cv2.imread\n",
        "# the 1st parameter is the image file name. almost all image formats are supported. seconed parameter is FLAG.\n",
        "The flag is optional and one of the following possible values can be passed for the flag.\n",
        "cv2.IMREAD_COLOR reads the image with RGB colors but no transparency channel. This is the default value for the flag when no value is provided as the second argument for cv2.imread().\n",
        "cv2.IMREAD_GRAYSCALE reads the image as grey image. If the source image is color image, grey value of each pixel is calculated by taking the average of color channels, and is read into the array.\n",
        "cv2.IMREAD_UNCHANGED reads the image as is from the source.\n",
        "\n",
        "'''\n",
        "im_file = input('Enter the File Name: ')\n",
        "img = cv2.imread( im_file )\n",
        "\n",
        "# dont forget the path, usually \\\\ works better than \\\n",
        "# find a way to get sure that reading has been successful, usually img.shape helps\n",
        "#"
      ]
    },
    {
      "cell_type": "markdown",
      "id": "0477feab",
      "metadata": {
        "id": "0477feab"
      },
      "source": [
        "### part 2: Graylevel Conversion\n",
        "#### use 2 possible options below to convert a color image to gray level\n",
        "#### to show an image you can use __imshow instruction,\n",
        "#### but dont forget that you also need these 2 instructions to see the results.\n",
        "cv2.waitKey()\n",
        "cv2.destroyAllWindows()\n",
        "#### we often put them at the end of our program"
      ]
    },
    {
      "cell_type": "code",
      "execution_count": null,
      "id": "102f02f4",
      "metadata": {
        "id": "102f02f4"
      },
      "outputs": [],
      "source": [
        "\n",
        "cv2.imshow( 'Original',img )\n",
        "\n",
        "gle = cv2.cvtColor(img, cv2.COLOR_BGR2GRAY)\n",
        "# or le =  cv2.imread( im_file ,0)\n",
        "cv2.imshow('Grayscale', gle)\n"
      ]
    },
    {
      "cell_type": "code",
      "execution_count": null,
      "id": "a80fa196",
      "metadata": {
        "id": "a80fa196"
      },
      "outputs": [],
      "source": [
        "# to show your images you can use matplotlib , pyplot , imshow instruction too\n",
        "# it has got its own advantages and disadvantages\n",
        "#\n",
        "plt.figure( figsize=(10,10) )\n",
        "plt.subplot(221),plt.imshow(img , cmap='jet'),plt.title('Image'), plt.axis('off')\n",
        "plt.subplot(222),plt.imshow(img[:,:,0], cmap='gray'),plt.title('Blue Spectrum') , plt.axis('off')\n",
        "plt.subplot(223),plt.imshow(img[:,:,1], cmap='gray'),plt.title('Green Spectrum'), plt.axis('off')\n",
        "plt.subplot(224),plt.imshow(img[:,:,2], cmap='gray'),plt.title('Red Spectrum'), plt.axis('off')\n",
        "plt.show()"
      ]
    },
    {
      "cell_type": "markdown",
      "id": "c3070cff",
      "metadata": {
        "id": "c3070cff"
      },
      "source": [
        "### part 3: Image Statistics\n",
        "#### You can find some useful routines in utils_2023.ipynb , or develop your own function\n",
        "#### example: a function to compute the power of an image\n",
        "1- using numpy functions will help,\n",
        "2- mind integer operations\n",
        "#### things to do:\n",
        "- compute and print the power of your color and gray level image\n",
        "- compute and print the statistics of your image: max,min,average,..."
      ]
    },
    {
      "cell_type": "code",
      "execution_count": null,
      "id": "d93e2c21",
      "metadata": {
        "id": "d93e2c21"
      },
      "outputs": [],
      "source": [
        "# function to compute the image power. input could be graylevel or color.\n",
        "#\n",
        "def am_power(a):\n",
        "    dim1 = a.shape\n",
        "\n",
        "    if len(dim1)==2:\n",
        "        sz = dim1[0] * dim1[1]\n",
        "    elif len(dim1)==3:\n",
        "        sz = dim1[0] * dim1[1] * dim1[2]\n",
        "    pa = np.sum(a ** 2.0) / sz\n",
        "\n",
        "    return pa"
      ]
    },
    {
      "cell_type": "code",
      "execution_count": null,
      "id": "9f7bed3e",
      "metadata": {
        "id": "9f7bed3e"
      },
      "outputs": [],
      "source": [
        "print('Image Power: Color= %9.3f ,\\t Graylevel=%9.3f' %(am_power(img) , am_power(gle) ) )"
      ]
    },
    {
      "cell_type": "code",
      "execution_count": null,
      "id": "17741472",
      "metadata": {
        "id": "17741472"
      },
      "outputs": [],
      "source": [
        "print('maximum= %4d ,   minimum= %4d ' %( np.max(gle) , np.min(gle) ) )\n",
        "print('average = %6.3f  ,  STD = %6.3f' %( np.mean(gle) , np.std(gle) ) )"
      ]
    },
    {
      "cell_type": "markdown",
      "id": "76f0ea65",
      "metadata": {
        "id": "76f0ea65"
      },
      "source": [
        "### part 4: Negative\n",
        "#### Things to do:\n",
        "- show the negative of your graylevel and color image both"
      ]
    },
    {
      "cell_type": "code",
      "execution_count": null,
      "id": "22f4f0db",
      "metadata": {
        "id": "22f4f0db"
      },
      "outputs": [],
      "source": [
        "img2 = 255 - img\n",
        "gle2 = 255 - gle\n",
        "\n",
        "cv2.imshow('Grayscale Negative', gle2)\n",
        "cv2.imshow('Color Negative', img2)"
      ]
    },
    {
      "cell_type": "markdown",
      "id": "a8f00b0f",
      "metadata": {
        "id": "a8f00b0f"
      },
      "source": [
        "### part 5: Affine Transforms\n",
        "#### Things to do:\n",
        "#### try a gray-level image and test different affine\n",
        "#### transforms on that. Try different hyperparameters, too.\n",
        "####\n"
      ]
    },
    {
      "cell_type": "markdown",
      "id": "bff3fa6a",
      "metadata": {
        "id": "bff3fa6a"
      },
      "source": [
        "### part 6: Histogram Operations and Dynamic Range\n",
        "#### Things to do:\n",
        "\n",
        "- select a low contrast image\n",
        "- show that and its histogram\n",
        "- find the dynamic range\n",
        "- change the dynamic range and show the resulting image\n",
        "- retrieve the original low contrast image\n",
        "- improve the contrast using histogram equalization, using cv2.equalizeHist function\n",
        "- see the resulting image and its histogram"
      ]
    },
    {
      "cell_type": "markdown",
      "id": "53ae14c6",
      "metadata": {
        "id": "53ae14c6"
      },
      "source": [
        "### part 7: Zoom !\n",
        "#### Try to realize which zoom in/out algorihms are better\n",
        "- read an image\n",
        "- select one of the zoom/interpolation algorithms\n",
        "- zoom it out with scale=0.5\n",
        "- zoom it in with scale = 2 to regain the original size\n",
        "- compare the original image with the zoomed out/in version using the absolut/square difference\n",
        "  or average absolute/square difference\n",
        "- is it a good way to evaluate the different zoom/interpolation algorithms?\n",
        "- see the original image and zoomed ones\n",
        "\n"
      ]
    },
    {
      "cell_type": "markdown",
      "id": "cea8a039",
      "metadata": {
        "id": "cea8a039"
      },
      "source": [
        "# Local Operations and Spatial Domain Filtering"
      ]
    },
    {
      "cell_type": "markdown",
      "id": "de49030c",
      "metadata": {
        "id": "de49030c"
      },
      "source": [
        "### Part 8: Filtering, LP and HP\n",
        "#### Read an image, design some filters like the filters that you can see below\n",
        "#### Filter your image with those filters. Use cv2.filter2D instruction\n",
        "#### See the resulting image and compute its power and entropy\n",
        "#### Check different arguments of that filter2D function\n",
        "####"
      ]
    },
    {
      "cell_type": "code",
      "execution_count": null,
      "id": "a1a5a302",
      "metadata": {
        "id": "a1a5a302"
      },
      "outputs": [],
      "source": [
        "gle = cv2.imread(im_file, 0)\n",
        "\n",
        "lp1 = np.array([[.11, .11, .11],\n",
        "                    [.11, .11, .11],\n",
        "                    [.11, .11, .11]] )\n",
        "lp2=np.array([[0.25,0.25],[0.25,0.25]])\n",
        "lp3 = np.ones([7,7]) / 49.0\n",
        "\n",
        "hp1 = np.array( [[-1 , 1],[-1 , 1]] )\n",
        "hp2 = np.array( [[-1 , -1],[1 , 1]] )\n"
      ]
    },
    {
      "cell_type": "code",
      "execution_count": null,
      "id": "c549f455",
      "metadata": {
        "id": "c549f455"
      },
      "outputs": [],
      "source": [
        "kernels = [lp1, lp2, lp3, hp1, hp2]\n",
        "k_name = ['low pass 1', 'low pass 2','low pass 3','high pass 1', 'high pass 2' ]"
      ]
    },
    {
      "cell_type": "code",
      "execution_count": null,
      "id": "a1b91f6e",
      "metadata": {
        "id": "a1b91f6e"
      },
      "outputs": [],
      "source": [
        "# filtering\n",
        "for i in range(len(k_name)):\n",
        "    b = cv2.filter2D(src=gle, ddepth=-1, kernel=kernels[i])\n",
        "    cv2.namedWindow(k_name[i], cv2.WINDOW_NORMAL)\n",
        "    cv2.imshow(k_name[i], b)\n",
        "    print('Image Power after applying filter %s= %9.3f' %(k_name[i] , am_power(b) ) )"
      ]
    },
    {
      "cell_type": "markdown",
      "id": "01b048c9",
      "metadata": {
        "id": "01b048c9"
      },
      "source": [
        "### Part 9: Sobel operator\n",
        "#### Develop a Sobel edge detection program and test it on images below\n",
        "1. 20230515_110806.jpg\n",
        "2. 06600600u.bmp\n",
        "3. 16.png\n",
        "4. diam.png\n",
        "\n",
        "for each image show and see the edge strength and edge direction matrices.\n"
      ]
    },
    {
      "cell_type": "code",
      "execution_count": null,
      "id": "d4456e91",
      "metadata": {
        "id": "d4456e91"
      },
      "outputs": [],
      "source": [
        "def am_print_mat( a ):\n",
        "    M = a.shape\n",
        "    for i in range(M[0]):\n",
        "        for j in range(M[1]):\n",
        "            print('%7.3f '%(a[i][j]) ,end='')\n",
        "        print(' ')\n",
        "\n"
      ]
    },
    {
      "cell_type": "markdown",
      "id": "4a2e99dc",
      "metadata": {
        "id": "4a2e99dc"
      },
      "source": [
        "### Part 10: simplified Sobel operator\n",
        "#### Run sobel code below and check these 2 images:\n",
        "1. 16.png\n",
        "2. diam.png\n",
        "\n",
        "for each image review the edge strength and edge direction matrices.\n"
      ]
    },
    {
      "cell_type": "code",
      "execution_count": null,
      "id": "f24d5165",
      "metadata": {
        "id": "f24d5165"
      },
      "outputs": [],
      "source": [
        "image = cv2.imread('..\\\\diam.png')\n",
        "# define the filter kernels\n",
        "image = cv2.cvtColor(image, cv2.COLOR_BGR2GRAY)\n",
        "# vertical and horizontal edge detectors\n",
        "hsx = np.array([[-1 , 1] , [-1 , 1]])\n",
        "hsy = np.array([[-1 ,-1] , [1 , 1]])\n"
      ]
    },
    {
      "cell_type": "code",
      "execution_count": null,
      "id": "8a431e09",
      "metadata": {
        "id": "8a431e09"
      },
      "outputs": [],
      "source": [
        "# horizontal and vertical edge detection\n",
        "Gx = cv2.filter2D(src=image, ddepth=-1, kernel=hsx)\n",
        "Gy = cv2.filter2D(src=image, ddepth=-1, kernel=hsy)\n",
        "# showing the results\n",
        "cv2.namedWindow(\"Original\", cv2.WINDOW_NORMAL)\n",
        "cv2.imshow('Original', image)\n",
        "cv2.namedWindow(\"Gx\", cv2.WINDOW_NORMAL)\n",
        "cv2.imshow('Gx', Gx)\n",
        "cv2.namedWindow(\"Gy\", cv2.WINDOW_NORMAL)\n",
        "cv2.imshow('Gy', Gy)\n"
      ]
    },
    {
      "cell_type": "code",
      "execution_count": null,
      "id": "8a29c879",
      "metadata": {
        "id": "8a29c879"
      },
      "outputs": [],
      "source": [
        "# computing the edge strength and direction matrices\n",
        "# Gabs = np.power((np.power(Gx,2) + np.power(Gy,2)) , 0.5)\n",
        "Gabs = (np.abs(Gx) + np.abs(Gy)) / 2\n",
        "Gdir = np.arctan(np.divide(Gy,(Gx+0.000001)))"
      ]
    },
    {
      "cell_type": "code",
      "execution_count": null,
      "id": "d0c08c9c",
      "metadata": {
        "id": "d0c08c9c"
      },
      "outputs": [],
      "source": [
        "\n",
        "cv2.namedWindow(\"GABS\", cv2.WINDOW_NORMAL)\n",
        "cv2.imshow('GABS', np.uint8(Gabs))"
      ]
    },
    {
      "cell_type": "code",
      "execution_count": null,
      "id": "c1e90b23",
      "metadata": {
        "id": "c1e90b23"
      },
      "outputs": [],
      "source": [
        "M=Gabs.shape\n",
        "print(M, '\\n----------\\n')\n",
        "am_print_mat(Gabs)"
      ]
    },
    {
      "cell_type": "code",
      "execution_count": null,
      "id": "1c7c0f18",
      "metadata": {
        "id": "1c7c0f18"
      },
      "outputs": [],
      "source": [
        "am_print_mat(Gdir)"
      ]
    },
    {
      "cell_type": "markdown",
      "id": "1f46bb12",
      "metadata": {
        "id": "1f46bb12"
      },
      "source": [
        "#### now use fig and subplot and show everything here"
      ]
    },
    {
      "cell_type": "code",
      "execution_count": null,
      "id": "a6e4294f",
      "metadata": {
        "id": "a6e4294f"
      },
      "outputs": [],
      "source": [
        "'''# create figure and set the figure size\n",
        "fig = plt.figure(figsize=(10,10))\n",
        "# setting values to rows and column variables\n",
        "rows = 2\n",
        "columns = 2\n",
        "\n",
        "# Adds a subplot at the 1st position\n",
        "fig.add_subplot(rows, columns, 1)\n",
        "\n",
        "# showing image\n",
        "plt.imshow(your image matrix)\n",
        "plt.axis('off')\n",
        "plt.title(\"your image title\")\n",
        "'''"
      ]
    },
    {
      "cell_type": "markdown",
      "id": "ced49d6e",
      "metadata": {
        "id": "ced49d6e"
      },
      "source": [
        "#### the end of lab 3 and 4 notebook ..."
      ]
    },
    {
      "cell_type": "code",
      "execution_count": null,
      "id": "99a2d975",
      "metadata": {
        "id": "99a2d975"
      },
      "outputs": [],
      "source": [
        "cv2.waitKey()\n",
        "cv2.destroyAllWindows()"
      ]
    }
  ],
  "metadata": {
    "kernelspec": {
      "display_name": "compvis",
      "language": "python",
      "name": "python3"
    },
    "language_info": {
      "codemirror_mode": {
        "name": "ipython",
        "version": 3
      },
      "file_extension": ".py",
      "mimetype": "text/x-python",
      "name": "python",
      "nbconvert_exporter": "python",
      "pygments_lexer": "ipython3",
      "version": "3.10.7"
    },
    "colab": {
      "provenance": [],
      "include_colab_link": true
    }
  },
  "nbformat": 4,
  "nbformat_minor": 5
}