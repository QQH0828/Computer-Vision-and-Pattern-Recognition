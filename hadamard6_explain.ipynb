{
  "cells": [
    {
      "cell_type": "markdown",
      "metadata": {
        "id": "view-in-github",
        "colab_type": "text"
      },
      "source": [
        "<a href=\"https://colab.research.google.com/github/QQH0828/Computer-Vision-and-Pattern-Recognition/blob/main/hadamard6_explain.ipynb\" target=\"_parent\"><img src=\"https://colab.research.google.com/assets/colab-badge.svg\" alt=\"Open In Colab\"/></a>"
      ]
    },
    {
      "cell_type": "markdown",
      "id": "6194ad9b-c1f0-48d3-8144-5ee04c4e8c09",
      "metadata": {
        "id": "6194ad9b-c1f0-48d3-8144-5ee04c4e8c09"
      },
      "source": [
        "## Walsh Hadamard Transform\n",
        "### Example 6\n",
        "#### WHT Explanation\n",
        "#### We're going to use very small size (4x4 , 8x8) gray-level images\n",
        "#### in these tests"
      ]
    },
    {
      "cell_type": "markdown",
      "id": "9db7d9ee-056f-4b61-ac99-953b735fd22b",
      "metadata": {
        "id": "9db7d9ee-056f-4b61-ac99-953b735fd22b"
      },
      "source": [
        "#### ----------===========----------"
      ]
    },
    {
      "cell_type": "code",
      "execution_count": null,
      "id": "2d634752-b5e0-4280-bd78-2d8ba0821ef8",
      "metadata": {
        "id": "2d634752-b5e0-4280-bd78-2d8ba0821ef8"
      },
      "outputs": [],
      "source": [
        "# Libraries\n",
        "import scipy as sc\n",
        "import math as m\n",
        "import numpy as np\n",
        "import cv2 as cv\n",
        "from matplotlib import pyplot as plt"
      ]
    },
    {
      "cell_type": "markdown",
      "id": "8a3d16ec-8f6d-4d3b-9a3f-69ed5a0850f7",
      "metadata": {
        "id": "8a3d16ec-8f6d-4d3b-9a3f-69ed5a0850f7"
      },
      "source": [
        "#### Functions that we need to convert natural Hadamard\n",
        "#### matrices to sequence ordered Hadamard matrices"
      ]
    },
    {
      "cell_type": "code",
      "execution_count": null,
      "id": "c07cf179",
      "metadata": {
        "id": "c07cf179"
      },
      "outputs": [],
      "source": [
        "def show_img(img, img_label=None, do_display=True):\n",
        "    plt.imshow(cv.cvtColor(img, cv.COLOR_BGR2RGB)), plt.title(img_label)\n",
        "    if do_display:\n",
        "        plt.show()\n",
        "\n",
        "FIGSIZE = (12, 8)"
      ]
    },
    {
      "cell_type": "code",
      "execution_count": null,
      "id": "90ff02ed-a9e3-425b-8a16-d7f3642542c6",
      "metadata": {
        "id": "90ff02ed-a9e3-425b-8a16-d7f3642542c6"
      },
      "outputs": [],
      "source": [
        "def bit_reverse(n, bit_size):\n",
        "    # Convert the integer to binary and remove the '0b' prefix\n",
        "    binary = bin(n)[2:]\n",
        "    # Pad the binary string with leading zeros to make it the specified bit size\n",
        "    binary = binary.zfill(bit_size)\n",
        "    # Reverse the binary string\n",
        "    reversed_binary = binary[::-1]\n",
        "    # Convert the reversed binary string back to an integer\n",
        "    reversed_int = int(reversed_binary, 2)\n",
        "    return reversed_int\n"
      ]
    },
    {
      "cell_type": "code",
      "execution_count": null,
      "id": "9f956847-5d93-4764-8034-63cb7c0ac2bb",
      "metadata": {
        "id": "9f956847-5d93-4764-8034-63cb7c0ac2bb"
      },
      "outputs": [],
      "source": [
        "def binary_to_gray(n):\n",
        "    # Convert binary to gray code using bitwise XOR\n",
        "    gray = n ^ (n >> 1)\n",
        "    return gray\n"
      ]
    },
    {
      "cell_type": "code",
      "execution_count": null,
      "id": "dbfd20da-4df5-4c15-82ae-6d9eb8a9f01e",
      "metadata": {
        "id": "dbfd20da-4df5-4c15-82ae-6d9eb8a9f01e"
      },
      "outputs": [],
      "source": [
        "def gray_to_binary(n):\n",
        "    binary = n\n",
        "    shift = n\n",
        "    while shift > 0:\n",
        "        shift >>= 1\n",
        "        binary ^= shift\n",
        "    return binary"
      ]
    },
    {
      "cell_type": "code",
      "execution_count": null,
      "id": "c7ce177e-484b-4749-b59e-4966b02a1852",
      "metadata": {
        "id": "c7ce177e-484b-4749-b59e-4966b02a1852"
      },
      "outputs": [],
      "source": [
        "def sordhad( H ):\n",
        "    SS = H.shape\n",
        "    H =  sc.linalg.hadamard( SS[0] )\n",
        "    h = np.zeros(SS)\n",
        "    for i in range(SS[0]):\n",
        "        j = bit_reverse( i ,int(m.log2(SS[0])) )\n",
        "        j = gray_to_binary(j)\n",
        "        h[j,:] = H[i,:]\n",
        "\n",
        "    return h\n"
      ]
    },
    {
      "cell_type": "markdown",
      "id": "f2e96d06-f74b-416b-b98e-38e4f6e4105a",
      "metadata": {
        "id": "f2e96d06-f74b-416b-b98e-38e4f6e4105a"
      },
      "source": [
        "## Hadamard Transform\n",
        "### Example 1: 4x4, a--> A  ,  A=h*a*h"
      ]
    },
    {
      "cell_type": "code",
      "execution_count": null,
      "id": "c578b28c-4dbd-4f91-be03-bc6de6a9beaa",
      "metadata": {
        "id": "c578b28c-4dbd-4f91-be03-bc6de6a9beaa"
      },
      "outputs": [],
      "source": [
        "# This is our image:\n",
        "a = np.array( [[1,1,1,0] , [1,1,1,0] , [0,0,0,1] , [0,0,0,1] ] )"
      ]
    },
    {
      "cell_type": "code",
      "execution_count": null,
      "id": "bab8d1e0-c6cf-489b-a7a0-44eb59917785",
      "metadata": {
        "id": "bab8d1e0-c6cf-489b-a7a0-44eb59917785"
      },
      "outputs": [],
      "source": [
        "# making the Seq Ord Hadamard transform\n",
        "SS = a.shape\n",
        "h = sc.linalg.hadamard( SS[0] )\n",
        "h = sordhad( h )"
      ]
    },
    {
      "cell_type": "code",
      "execution_count": null,
      "id": "f4d24f01-c02e-41ec-98f4-3f5ea1b85319",
      "metadata": {
        "id": "f4d24f01-c02e-41ec-98f4-3f5ea1b85319",
        "outputId": "defa97c3-bb04-402d-a1b8-5d8574ea7cc8"
      },
      "outputs": [
        {
          "data": {
            "text/plain": [
              "<Figure size 640x480 with 0 Axes>"
            ]
          },
          "metadata": {},
          "output_type": "display_data"
        },
        {
          "data": {
            "image/png": "[encoded data removed]",
            "text/plain": [
              "<Figure size 1200x800 with 2 Axes>"
            ]
          },
          "metadata": {},
          "output_type": "display_data"
        }
      ],
      "source": [
        "plt.clf()\n",
        "plt.figure(figsize=FIGSIZE)\n",
        "\n",
        "plt.subplot(1, 2, 1)\n",
        "plt.imshow(a*255, 'gray' )\n",
        "plt.title('Original Image')\n",
        "plt.axis('off')\n",
        "\n",
        "plt.subplot(1, 2, 2)\n",
        "plt.imshow((h+1)*40, 'gray' )\n",
        "plt.title('Hadamard Matrix')\n",
        "plt.axis('off')\n",
        "\n",
        "plt.show()"
      ]
    },
    {
      "cell_type": "code",
      "execution_count": null,
      "id": "74fbe8a6-3b2d-46d9-94c4-b716c8d84f09",
      "metadata": {
        "id": "74fbe8a6-3b2d-46d9-94c4-b716c8d84f09",
        "outputId": "d48995a9-4359-46c6-f93f-d92bdbe613d6"
      },
      "outputs": [
        {
          "data": {
            "text/plain": [
              "array([[ 1.,  1.,  1.,  1.],\n",
              "       [ 1.,  1., -1., -1.],\n",
              "       [ 1., -1., -1.,  1.],\n",
              "       [ 1., -1.,  1., -1.]])"
            ]
          },
          "execution_count": 11,
          "metadata": {},
          "output_type": "execute_result"
        }
      ],
      "source": [
        "h"
      ]
    },
    {
      "cell_type": "markdown",
      "id": "b8f41f6a-04df-4431-b368-ce770c5cc839",
      "metadata": {
        "id": "b8f41f6a-04df-4431-b368-ce770c5cc839"
      },
      "source": [
        "## Computing the Hadamard Transform\n",
        "#### A = h * a * h\n",
        "#### or  A = WHT(a)\n",
        "#### Matrix multiplication,\n",
        "#### WHT = Walsh Hadamard Transform, you may develop a function for that"
      ]
    },
    {
      "cell_type": "code",
      "execution_count": null,
      "id": "a91c59f6-e694-4625-8953-8001cbcbb97c",
      "metadata": {
        "id": "a91c59f6-e694-4625-8953-8001cbcbb97c"
      },
      "outputs": [],
      "source": [
        "A = np.matmul(h , np.matmul(a , h))"
      ]
    },
    {
      "cell_type": "code",
      "execution_count": null,
      "id": "b48ad090-1a7f-4e19-8f71-a380f348f9f1",
      "metadata": {
        "id": "b48ad090-1a7f-4e19-8f71-a380f348f9f1",
        "outputId": "daa5a247-c85d-4963-da1a-2d3cad8d855a"
      },
      "outputs": [
        {
          "data": {
            "text/plain": [
              "<Figure size 640x480 with 0 Axes>"
            ]
          },
          "metadata": {},
          "output_type": "display_data"
        },
        {
          "data": {
            "image/png": "[encoded data removed]",
            "text/plain": [
              "<Figure size 1200x1200 with 1 Axes>"
            ]
          },
          "metadata": {},
          "output_type": "display_data"
        }
      ],
      "source": [
        "# Create meshgrid to show the result of Hadamard transform = A\n",
        "x = np.arange(SS[0])\n",
        "y = np.arange(SS[0])\n",
        "X, Y = np.meshgrid(x, y)\n",
        "\n",
        "# Plotting\n",
        "plt.clf()\n",
        "fig = plt.figure(figsize=(12,12))\n",
        "ax = fig.add_subplot(111, projection='3d')\n",
        "\n",
        "# Plot the surface\n",
        "ax.plot_surface(X, Y, A, cmap='viridis')\n",
        "\n",
        "# Labels and title\n",
        "ax.set_xlabel('X axis')\n",
        "ax.set_ylabel('Y axis')\n",
        "ax.set_zlabel('A')\n",
        "ax.set_title('A = WHT(a)')\n",
        "\n",
        "plt.show()"
      ]
    },
    {
      "cell_type": "code",
      "execution_count": null,
      "id": "5c10fe38-ab71-4c9b-9b7e-e20f9c9661a0",
      "metadata": {
        "id": "5c10fe38-ab71-4c9b-9b7e-e20f9c9661a0",
        "outputId": "75aebd13-9f81-41a9-ca8e-0359ed625966"
      },
      "outputs": [
        {
          "data": {
            "image/png": "[encoded data removed]",
            "text/plain": [
              "<Figure size 640x480 with 1 Axes>"
            ]
          },
          "metadata": {},
          "output_type": "display_data"
        }
      ],
      "source": [
        "plt.clf()\n",
        "plt.imshow(A, 'gray' )\n",
        "plt.title('A = WHT(a)')\n",
        "plt.axis('off')\n",
        "plt.show()"
      ]
    },
    {
      "cell_type": "markdown",
      "id": "4c25afa3-1d53-45da-bacf-e5ee376e4f20",
      "metadata": {
        "id": "4c25afa3-1d53-45da-bacf-e5ee376e4f20"
      },
      "source": [
        "## Explanation"
      ]
    },
    {
      "cell_type": "code",
      "execution_count": null,
      "id": "5dba62a6-a0e4-4e06-8391-9d8cbf51bd28",
      "metadata": {
        "id": "5dba62a6-a0e4-4e06-8391-9d8cbf51bd28",
        "outputId": "ee0dee93-d100-485d-be9a-b70cc57e2b8b"
      },
      "outputs": [
        {
          "name": "stdout",
          "output_type": "stream",
          "text": [
            "[[ 8.  0.  0.  0.]\n",
            " [ 4.  4. -4.  4.]\n",
            " [ 0.  0.  0.  0.]\n",
            " [ 0.  0.  0.  0.]]\n"
          ]
        }
      ],
      "source": [
        "print(A)"
      ]
    },
    {
      "cell_type": "code",
      "execution_count": null,
      "id": "8e7eb4f6-49df-49c5-b571-feb1df83f526",
      "metadata": {
        "id": "8e7eb4f6-49df-49c5-b571-feb1df83f526",
        "outputId": "303b88c0-a7b9-4727-8a83-04282b0971a2"
      },
      "outputs": [
        {
          "name": "stdout",
          "output_type": "stream",
          "text": [
            "8\n"
          ]
        }
      ],
      "source": [
        "print( np.sum( np.sum(a)) )\n",
        "# This is the summation of all pixels of the image a\n",
        "# What is the A[0,0] or the first element of A = WHT(a) ? again 8\n",
        "# Each element of A shows the magnitude/amplitude of one of the basic 2d square wavelets\n",
        "# contributed to building/composing a, the original image\n",
        "# u and v are the vertical and horizontal frequencies of those 2d square wavelets\n",
        "# using Sequence Ordered Hadamard matrices, those wavelets will be sorted by frequency, too."
      ]
    },
    {
      "cell_type": "markdown",
      "id": "6836af8a-4a8d-4967-b347-9cbee7b2a6ee",
      "metadata": {
        "id": "6836af8a-4a8d-4967-b347-9cbee7b2a6ee"
      },
      "source": [
        "<img src=\"ex2.bmp\" />"
      ]
    },
    {
      "cell_type": "code",
      "execution_count": null,
      "id": "9bec416b-74ea-45c1-aba8-f32fe804be2b",
      "metadata": {
        "id": "9bec416b-74ea-45c1-aba8-f32fe804be2b"
      },
      "outputs": [],
      "source": [
        "#### Another try, a new 4x4 image, a rather random one\n",
        "#### Called a2"
      ]
    },
    {
      "cell_type": "code",
      "execution_count": null,
      "id": "a4af824f-0e5e-4738-bccf-27ca4cdd53ba",
      "metadata": {
        "id": "a4af824f-0e5e-4738-bccf-27ca4cdd53ba"
      },
      "outputs": [],
      "source": [
        "a2 = np.array( [[36,12,36,12] , [40,76,40,76] , [36,12,36,12] , [1,19,1,19] ] )"
      ]
    },
    {
      "cell_type": "code",
      "execution_count": null,
      "id": "b3e389ef-a8c9-4560-a8dc-90d8cf41d581",
      "metadata": {
        "id": "b3e389ef-a8c9-4560-a8dc-90d8cf41d581",
        "outputId": "47e78f59-51f0-4772-a656-ed86613f3b8f"
      },
      "outputs": [
        {
          "data": {
            "image/png": "[encoded data removed]",
            "text/plain": [
              "<Figure size 640x480 with 1 Axes>"
            ]
          },
          "metadata": {},
          "output_type": "display_data"
        }
      ],
      "source": [
        "plt.clf()\n",
        "plt.imshow(a2, 'gray' )\n",
        "plt.title('Original Image a2')\n",
        "plt.axis('off')\n",
        "plt.show()"
      ]
    },
    {
      "cell_type": "code",
      "execution_count": null,
      "id": "32920b54-8720-4643-b337-6c9f8ae3b913",
      "metadata": {
        "id": "32920b54-8720-4643-b337-6c9f8ae3b913"
      },
      "outputs": [],
      "source": [
        "A2 = np.matmul(h , np.matmul(a2 , h))"
      ]
    },
    {
      "cell_type": "code",
      "execution_count": null,
      "id": "4b0b7372-6430-43b1-9f6e-0c29f41d59ba",
      "metadata": {
        "id": "4b0b7372-6430-43b1-9f6e-0c29f41d59ba",
        "outputId": "355922bb-3fd6-48af-8d74-445a400779df"
      },
      "outputs": [
        {
          "name": "stdout",
          "output_type": "stream",
          "text": [
            "[[ 464.    0.    0.  -12.]\n",
            " [ 192.    0.    0.  -36.]\n",
            " [-192.    0.    0.   36.]\n",
            " [ -80.    0.    0.  204.]]\n",
            "---------------\n",
            "464\n"
          ]
        }
      ],
      "source": [
        "print(A2)\n",
        "print('---------------')\n",
        "print( np.sum(np.sum(a2)) )"
      ]
    },
    {
      "cell_type": "code",
      "execution_count": null,
      "id": "c59035e3-4563-45a8-a37d-5160b32eae43",
      "metadata": {
        "id": "c59035e3-4563-45a8-a37d-5160b32eae43",
        "outputId": "02a0bde0-d49e-4cac-ad42-0e7bcfbc07d5"
      },
      "outputs": [
        {
          "data": {
            "image/png": "[encoded data removed]",
            "text/plain": [
              "<Figure size 640x480 with 1 Axes>"
            ]
          },
          "metadata": {},
          "output_type": "display_data"
        }
      ],
      "source": [
        "plt.clf()\n",
        "plt.imshow(A2, 'gray' )\n",
        "plt.title('A2 = WHT(a2)')\n",
        "plt.axis('off')\n",
        "plt.show()"
      ]
    },
    {
      "cell_type": "markdown",
      "id": "bd63c34d-6c60-4745-a469-1131c44a6fce",
      "metadata": {
        "id": "bd63c34d-6c60-4745-a469-1131c44a6fce"
      },
      "source": [
        "<img src=\"ex3.bmp\" />"
      ]
    },
    {
      "cell_type": "markdown",
      "id": "d655bf22-f552-48d7-b546-53cb9b75d3e3",
      "metadata": {
        "id": "d655bf22-f552-48d7-b546-53cb9b75d3e3"
      },
      "source": [
        "#### This time we use an 8x8 image, called m2\n",
        "#### This is a random graylevel image"
      ]
    },
    {
      "cell_type": "code",
      "execution_count": null,
      "id": "59f295ed-df57-46e6-84a7-b499cd235562",
      "metadata": {
        "id": "59f295ed-df57-46e6-84a7-b499cd235562",
        "outputId": "a4ede848-ad10-483f-ff2e-c5dee5598a99"
      },
      "outputs": [
        {
          "name": "stdout",
          "output_type": "stream",
          "text": [
            "[[ 45  21  17 116  16  99  84  26]\n",
            " [ 39  99  82  24  77   8 114  86]\n",
            " [ 62  49  19  34   2 110  17  93]\n",
            " [117 117 108  60 104  77  73  21]\n",
            " [ 67  93 101  81  78  11  47  35]\n",
            " [ 17 113  76  57  76  84  33  63]\n",
            " [109  44  94  28 109  17  80  57]\n",
            " [ 60  23  66  37 110 107  29   7]]\n"
          ]
        },
        {
          "data": {
            "image/png": "[encoded data removed]",
            "text/plain": [
              "<Figure size 640x480 with 1 Axes>"
            ]
          },
          "metadata": {},
          "output_type": "display_data"
        },
        {
          "name": "stdout",
          "output_type": "stream",
          "text": [
            "[[4025.  125. -145.  295. -199. -139.  -65.  231.]\n",
            " [   7. -121.  365. -159. -145.  423.   69. -359.]\n",
            " [-165. -369.  -23. -223.  123.  263. -119.  433.]\n",
            " [ -55.   97.  103. -493. -159. -127. -481. -325.]\n",
            " [  81.  285. -501.  179.   13.  473. -185.  151.]\n",
            " [ 291.  115.  -91.   49.  -33.  207. -143.   85.]\n",
            " [-489. -413. -423.  145.  -53.  567.  333. -851.]\n",
            " [-303.   73.  139. -289.  309.  445.  191. -165.]]\n"
          ]
        }
      ],
      "source": [
        "m1= np.random.randint(0, 121, (8, 8))\n",
        "print(m1)\n",
        "h = sc.linalg.hadamard( 8 )\n",
        "h = sordhad( h )\n",
        "M1 = np.matmul(h , np.matmul(m1, h))\n",
        "\n",
        "plt.clf()\n",
        "plt.imshow(M1, 'gray' )\n",
        "plt.title('M2= Hadamard Transform of Image m2')\n",
        "plt.axis('off')\n",
        "plt.show()\n",
        "# cv.waitKey(0)\n",
        "# cv.destroyAllWindows()\n",
        "np.set_printoptions(suppress=True)\n",
        "print(M1)"
      ]
    },
    {
      "cell_type": "code",
      "execution_count": null,
      "id": "b0042b92-567e-4fe4-8041-998c689e9f03",
      "metadata": {
        "id": "b0042b92-567e-4fe4-8041-998c689e9f03",
        "outputId": "be6d2ec6-e696-4b53-c85b-cab1a9cf32b0"
      },
      "outputs": [
        {
          "name": "stdout",
          "output_type": "stream",
          "text": [
            "[[ 1.  1.  1.  1.  1.  1.  1.  1.]\n",
            " [ 1.  1.  1.  1. -1. -1. -1. -1.]\n",
            " [ 1.  1. -1. -1. -1. -1.  1.  1.]\n",
            " [ 1.  1. -1. -1.  1.  1. -1. -1.]\n",
            " [ 1. -1. -1.  1.  1. -1. -1.  1.]\n",
            " [ 1. -1. -1.  1. -1.  1.  1. -1.]\n",
            " [ 1. -1.  1. -1. -1.  1. -1.  1.]\n",
            " [ 1. -1.  1. -1.  1. -1.  1. -1.]]\n"
          ]
        }
      ],
      "source": [
        "print(h)"
      ]
    },
    {
      "cell_type": "markdown",
      "id": "f8c267fe-306e-4dd4-a248-723b5c99b554",
      "metadata": {
        "id": "f8c267fe-306e-4dd4-a248-723b5c99b554"
      },
      "source": [
        "<img src=\"The-basis.png\" />"
      ]
    },
    {
      "cell_type": "code",
      "execution_count": null,
      "id": "a61257f2-7d2d-4337-b984-b7c1568c003f",
      "metadata": {
        "id": "a61257f2-7d2d-4337-b984-b7c1568c003f"
      },
      "outputs": [],
      "source": [
        "### Now, back to a2,\n",
        "#### we try to realize the way Hadamard transform decomposes the image\n",
        "#### Transform a2 to A2, then\n",
        "#### printing the image a2 and its Hadamard transform A2=WHT(a2)"
      ]
    },
    {
      "cell_type": "code",
      "execution_count": null,
      "id": "5eaf6366-e336-4931-a7e7-c74108f6bb42",
      "metadata": {
        "id": "5eaf6366-e336-4931-a7e7-c74108f6bb42"
      },
      "outputs": [],
      "source": [
        "SS = a2.shape\n",
        "h = sc.linalg.hadamard( SS[0] )\n",
        "h = sordhad( h )\n",
        "A2 = np.matmul(h , np.matmul(a2 , h))"
      ]
    },
    {
      "cell_type": "code",
      "execution_count": null,
      "id": "70fb8632-e93e-4be0-b365-51de05be2bb0",
      "metadata": {
        "id": "70fb8632-e93e-4be0-b365-51de05be2bb0",
        "outputId": "091b96b6-c68e-4553-b888-9e07878bd7e3"
      },
      "outputs": [
        {
          "name": "stdout",
          "output_type": "stream",
          "text": [
            "the image and its Hadamard transform: A2= h*a2*h= WHT(a2) \n",
            "[[36 12 36 12]\n",
            " [40 76 40 76]\n",
            " [36 12 36 12]\n",
            " [ 1 19  1 19]]\n",
            "[[ 464.    0.    0.  -12.]\n",
            " [ 192.    0.    0.  -36.]\n",
            " [-192.    0.    0.   36.]\n",
            " [ -80.    0.    0.  204.]]\n"
          ]
        }
      ],
      "source": [
        "print('the image and its Hadamard transform: A2= h*a2*h= WHT(a2) ')\n",
        "print(a2)\n",
        "print(A2)"
      ]
    },
    {
      "cell_type": "code",
      "execution_count": null,
      "id": "180c0f43-8391-407b-9a56-a1721b4cfc67",
      "metadata": {
        "id": "180c0f43-8391-407b-9a56-a1721b4cfc67",
        "outputId": "d1be8c47-644c-4311-affd-11d6955fdfa2"
      },
      "outputs": [
        {
          "name": "stdout",
          "output_type": "stream",
          "text": [
            "[[ 1.  1.  1.  1.]\n",
            " [ 1.  1. -1. -1.]\n",
            " [ 1. -1. -1.  1.]\n",
            " [ 1. -1.  1. -1.]]\n"
          ]
        }
      ],
      "source": [
        "# Building 4 square wave arrays, basic 1d wavelets.\n",
        "# 2d wavelets that you can see in cells 14 and 20 above are in fact\n",
        "# outer products of hi*hj for j in range(4)\n",
        "#\n",
        "h0 = np.array( [ [1, 1,  1,  1] ] )\n",
        "h1 = np.array( [ [1, 1, -1, -1] ] )\n",
        "h2 = np.array( [ [1, -1, -1, 1] ] )\n",
        "h3 = np.array( [ [1, -1, 1, -1] ] )\n",
        "print(h)"
      ]
    },
    {
      "cell_type": "markdown",
      "id": "30959aa8-c86b-4af6-b936-9e5cbcae0ad8",
      "metadata": {
        "id": "30959aa8-c86b-4af6-b936-9e5cbcae0ad8"
      },
      "source": [
        "#### What can you say about the results of cells below?\n",
        "#### What do they show and suggest?\n",
        "#### Hint: Are the results some elements of A2? How? Where?"
      ]
    },
    {
      "cell_type": "code",
      "execution_count": null,
      "id": "bc316f3e",
      "metadata": {
        "id": "bc316f3e",
        "outputId": "dbbf13c6-a7a6-4ded-809a-9ff64c381856"
      },
      "outputs": [
        {
          "name": "stdout",
          "output_type": "stream",
          "text": [
            "[[ 464.    0.    0.  -12.]\n",
            " [ 192.    0.    0.  -36.]\n",
            " [-192.    0.    0.   36.]\n",
            " [ -80.    0.    0.  204.]]\n"
          ]
        }
      ],
      "source": [
        "print(A2)"
      ]
    },
    {
      "cell_type": "code",
      "execution_count": null,
      "id": "4a07e5cb-96d2-4be5-aafc-eb246a5615bf",
      "metadata": {
        "id": "4a07e5cb-96d2-4be5-aafc-eb246a5615bf",
        "outputId": "fa930e82-a02a-43ad-e4ab-998ef6499100"
      },
      "outputs": [
        {
          "name": "stdout",
          "output_type": "stream",
          "text": [
            "[[464]]\n"
          ]
        }
      ],
      "source": [
        "print ( np.matmul( np.matmul(h0,a2) , h0.T) )"
      ]
    },
    {
      "cell_type": "code",
      "execution_count": null,
      "id": "d89d1e2f-f47d-42a3-a1f4-f39e56b1bae2",
      "metadata": {
        "id": "d89d1e2f-f47d-42a3-a1f4-f39e56b1bae2",
        "outputId": "e252188c-ea1f-4bb9-e0ba-68761386e52b"
      },
      "outputs": [
        {
          "name": "stdout",
          "output_type": "stream",
          "text": [
            "[[0]]\n"
          ]
        }
      ],
      "source": [
        "print ( np.matmul( np.matmul(h0,a2) , h1.T) )"
      ]
    },
    {
      "cell_type": "code",
      "execution_count": null,
      "id": "57192c2f-8679-49f8-9b7c-0676a6c1d8ec",
      "metadata": {
        "id": "57192c2f-8679-49f8-9b7c-0676a6c1d8ec",
        "outputId": "b20e1110-91e7-4821-95bd-1e39a2203a31"
      },
      "outputs": [
        {
          "name": "stdout",
          "output_type": "stream",
          "text": [
            "[[192]]\n"
          ]
        }
      ],
      "source": [
        "print ( np.matmul( np.matmul(h1,a2) , h0.T) )"
      ]
    },
    {
      "cell_type": "code",
      "execution_count": null,
      "id": "d382454c-5d2a-47de-95d8-55940d4a31fe",
      "metadata": {
        "id": "d382454c-5d2a-47de-95d8-55940d4a31fe",
        "outputId": "b283bc33-9398-4d4e-a1d4-3cd26ff145ec"
      },
      "outputs": [
        {
          "name": "stdout",
          "output_type": "stream",
          "text": [
            "[[-80]]\n"
          ]
        }
      ],
      "source": [
        "print ( np.matmul( np.matmul(h3,a2) , h0.T) )"
      ]
    },
    {
      "cell_type": "code",
      "execution_count": null,
      "id": "f458b49c-967d-4297-9fff-bbd3cfe3da6f",
      "metadata": {
        "id": "f458b49c-967d-4297-9fff-bbd3cfe3da6f",
        "outputId": "4386e09e-5a62-478e-a92e-4e34cfbffd4f"
      },
      "outputs": [
        {
          "name": "stdout",
          "output_type": "stream",
          "text": [
            "[[204]]\n"
          ]
        }
      ],
      "source": [
        "print ( np.matmul( np.matmul(h3,a2) , h3.T) )"
      ]
    },
    {
      "cell_type": "markdown",
      "id": "e0396154-5b5c-460c-8110-b01ac52bfc1c",
      "metadata": {
        "id": "e0396154-5b5c-460c-8110-b01ac52bfc1c"
      },
      "source": [
        "#### Declaration of a function to decompose any square $2^n \\times 2^n$ image into\n",
        "#### its 2d squarewave wavelets using Hadamard transform\n",
        "#### input: a, the image, $N \\times N$, where $N = 2^n$\n",
        "#### outputs: alst and Alst, 2 $N \\times N \\times N^2$ matrices\n",
        "#### each page of Alst is one of\n",
        "#### each page of alst, e.g., alst[:,:,i] is the result of inverse\n",
        "#### Hadamard transform of Alst[:,:,i]\n",
        "#### in codes S= size of the image = N in this comment"
      ]
    },
    {
      "cell_type": "code",
      "execution_count": null,
      "id": "9fbf6982-df46-4b89-aaef-310a6c97e99d",
      "metadata": {
        "id": "9fbf6982-df46-4b89-aaef-310a6c97e99d"
      },
      "outputs": [],
      "source": [
        "def had_decomposer(a):\n",
        "    S = a.shape[0]\n",
        "    h = sc.linalg.hadamard( S )\n",
        "    h = sordhad( h )\n",
        "    # Hadamard transform\n",
        "    A = np.matmul(h , np.matmul(a , h))\n",
        "    # saving the image and its transform for later\n",
        "    A2 = A\n",
        "    a2 = a\n",
        "    Alst=[]\n",
        "    alst=[]\n",
        "    # In these 2 nested loops, we make a mask of all zeros but one 1\n",
        "    # and multiply that with the Hadamard transform of the image, A\n",
        "    # to keep just 1 frequency element and make all others 0\n",
        "    # before doing the inverse transform.\n",
        "    for i in range(S):\n",
        "        for j in range(S):\n",
        "            msk = np.zeros( (S,S) )\n",
        "            msk[i,j]=1\n",
        "            A = A * msk\n",
        "            a =  np.matmul(h , np.matmul(A , h)) / S**2\n",
        "            alst.append(a)\n",
        "            Alst.append(A)\n",
        "            A=A2\n",
        "\n",
        "    # convering lists to 3d numpy matrices of SxSxS**2 size\n",
        "    alst = np.stack(alst , axis=-1)\n",
        "    Alst = np.stack(Alst , axis=-1)\n",
        "\n",
        "    return alst , Alst\n",
        ""
      ]
    },
    {
      "cell_type": "code",
      "execution_count": null,
      "id": "6e5945a7-16fa-4e33-9aa3-8d33b2b8f9bb",
      "metadata": {
        "id": "6e5945a7-16fa-4e33-9aa3-8d33b2b8f9bb",
        "outputId": "5ccc6835-3fb9-4055-c622-7ad6a5110f6f"
      },
      "outputs": [
        {
          "data": {
            "image/png": "[encoded data removed]",
            "text/plain": [
              "<Figure size 640x480 with 1 Axes>"
            ]
          },
          "metadata": {},
          "output_type": "display_data"
        }
      ],
      "source": [
        "# now c is our 4x4 image, we call had_decoposer and compute its components\n",
        "# saved in clst and CLST\n",
        "c = np.array( [ [10,20,30,40] , [60,60,60,60] , [10,20,30,40] , [50,9,50,9] ] )\n",
        "plt.clf()\n",
        "plt.imshow(c, cmap='gray')\n",
        "plt.show()\n",
        "\n",
        "S= c.shape[0]\n",
        "clst , CLST = had_decomposer(c)"
      ]
    },
    {
      "cell_type": "code",
      "execution_count": null,
      "id": "8d5954d2-8d65-4651-8a61-42f9fd6d1c86",
      "metadata": {
        "id": "8d5954d2-8d65-4651-8a61-42f9fd6d1c86",
        "outputId": "9177d41e-2e50-4d1e-fb91-9cda419379bb"
      },
      "outputs": [
        {
          "name": "stdout",
          "output_type": "stream",
          "text": [
            "<class 'numpy.ndarray'> (4, 4, 16)\n",
            "16\n"
          ]
        }
      ],
      "source": [
        "print( type(clst) , clst.shape)"
      ]
    },
    {
      "cell_type": "code",
      "execution_count": null,
      "id": "6a7e19ae-9679-451a-8b11-082686e3b085",
      "metadata": {
        "id": "6a7e19ae-9679-451a-8b11-082686e3b085",
        "outputId": "6509d1f9-ee6b-4224-eedb-6941ae1ec002"
      },
      "outputs": [
        {
          "name": "stdout",
          "output_type": "stream",
          "text": [
            "[[34.875 34.875 34.875 34.875]\n",
            " [34.875 34.875 34.875 34.875]\n",
            " [34.875 34.875 34.875 34.875]\n",
            " [34.875 34.875 34.875 34.875]]\n",
            "[[-5. -5.  5.  5.]\n",
            " [-5. -5.  5.  5.]\n",
            " [-5. -5.  5.  5.]\n",
            " [-5. -5.  5.  5.]]\n",
            "[[0. 0. 0. 0.]\n",
            " [0. 0. 0. 0.]\n",
            " [0. 0. 0. 0.]\n",
            " [0. 0. 0. 0.]]\n",
            "[[ 2.625 -2.625  2.625 -2.625]\n",
            " [ 2.625 -2.625  2.625 -2.625]\n",
            " [ 2.625 -2.625  2.625 -2.625]\n",
            " [ 2.625 -2.625  2.625 -2.625]]\n",
            "[[ 7.625  7.625  7.625  7.625]\n",
            " [ 7.625  7.625  7.625  7.625]\n",
            " [-7.625 -7.625 -7.625 -7.625]\n",
            " [-7.625 -7.625 -7.625 -7.625]]\n",
            "[[0. 0. 0. 0.]\n",
            " [0. 0. 0. 0.]\n",
            " [0. 0. 0. 0.]\n",
            " [0. 0. 0. 0.]]\n",
            "[[0. 0. 0. 0.]\n",
            " [0. 0. 0. 0.]\n",
            " [0. 0. 0. 0.]\n",
            " [0. 0. 0. 0.]]\n",
            "[[-5.125  5.125 -5.125  5.125]\n",
            " [-5.125  5.125 -5.125  5.125]\n",
            " [ 5.125 -5.125  5.125 -5.125]\n",
            " [ 5.125 -5.125  5.125 -5.125]]\n",
            "[[-7.625 -7.625 -7.625 -7.625]\n",
            " [ 7.625  7.625  7.625  7.625]\n",
            " [ 7.625  7.625  7.625  7.625]\n",
            " [-7.625 -7.625 -7.625 -7.625]]\n",
            "[[0. 0. 0. 0.]\n",
            " [0. 0. 0. 0.]\n",
            " [0. 0. 0. 0.]\n",
            " [0. 0. 0. 0.]]\n",
            "[[0. 0. 0. 0.]\n",
            " [0. 0. 0. 0.]\n",
            " [0. 0. 0. 0.]\n",
            " [0. 0. 0. 0.]]\n",
            "[[ 5.125 -5.125  5.125 -5.125]\n",
            " [-5.125  5.125 -5.125  5.125]\n",
            " [-5.125  5.125 -5.125  5.125]\n",
            " [ 5.125 -5.125  5.125 -5.125]]\n",
            "[[-9.875 -9.875 -9.875 -9.875]\n",
            " [ 9.875  9.875  9.875  9.875]\n",
            " [-9.875 -9.875 -9.875 -9.875]\n",
            " [ 9.875  9.875  9.875  9.875]]\n",
            "[[-5. -5.  5.  5.]\n",
            " [ 5.  5. -5. -5.]\n",
            " [-5. -5.  5.  5.]\n",
            " [ 5.  5. -5. -5.]]\n",
            "[[0. 0. 0. 0.]\n",
            " [0. 0. 0. 0.]\n",
            " [0. 0. 0. 0.]\n",
            " [0. 0. 0. 0.]]\n",
            "[[-7.625  7.625 -7.625  7.625]\n",
            " [ 7.625 -7.625  7.625 -7.625]\n",
            " [-7.625  7.625 -7.625  7.625]\n",
            " [ 7.625 -7.625  7.625 -7.625]]\n"
          ]
        }
      ],
      "source": [
        "# print all the pages of clst, which are results of the decomposition of c into all its 16 2d squarewave\n",
        "# components in spatial domian\n",
        "for i in range(S**2):\n",
        "    print( clst[:,:,i] )"
      ]
    },
    {
      "cell_type": "code",
      "execution_count": null,
      "id": "0404b424-8d51-40e6-a157-c4c56599a470",
      "metadata": {
        "id": "0404b424-8d51-40e6-a157-c4c56599a470",
        "outputId": "b07450c8-8ffc-4a9c-953b-908b6f5a6cb9"
      },
      "outputs": [
        {
          "name": "stdout",
          "output_type": "stream",
          "text": [
            "[[558.  -0.   0.   0.]\n",
            " [  0.   0.   0.  -0.]\n",
            " [ -0.   0.   0.   0.]\n",
            " [ -0.  -0.   0.  -0.]]\n",
            "[[  0. -80.   0.   0.]\n",
            " [  0.   0.   0.  -0.]\n",
            " [ -0.   0.   0.   0.]\n",
            " [ -0.  -0.   0.  -0.]]\n",
            "[[ 0. -0.  0.  0.]\n",
            " [ 0.  0.  0. -0.]\n",
            " [-0.  0.  0.  0.]\n",
            " [-0. -0.  0. -0.]]\n",
            "[[ 0. -0.  0. 42.]\n",
            " [ 0.  0.  0. -0.]\n",
            " [-0.  0.  0.  0.]\n",
            " [-0. -0.  0. -0.]]\n",
            "[[  0.  -0.   0.   0.]\n",
            " [122.   0.   0.  -0.]\n",
            " [ -0.   0.   0.   0.]\n",
            " [ -0.  -0.   0.  -0.]]\n",
            "[[ 0. -0.  0.  0.]\n",
            " [ 0.  0.  0. -0.]\n",
            " [-0.  0.  0.  0.]\n",
            " [-0. -0.  0. -0.]]\n",
            "[[ 0. -0.  0.  0.]\n",
            " [ 0.  0.  0. -0.]\n",
            " [-0.  0.  0.  0.]\n",
            " [-0. -0.  0. -0.]]\n",
            "[[  0.  -0.   0.   0.]\n",
            " [  0.   0.   0. -82.]\n",
            " [ -0.   0.   0.   0.]\n",
            " [ -0.  -0.   0.  -0.]]\n",
            "[[   0.   -0.    0.    0.]\n",
            " [   0.    0.    0.   -0.]\n",
            " [-122.    0.    0.    0.]\n",
            " [  -0.   -0.    0.   -0.]]\n",
            "[[ 0. -0.  0.  0.]\n",
            " [ 0.  0.  0. -0.]\n",
            " [-0.  0.  0.  0.]\n",
            " [-0. -0.  0. -0.]]\n",
            "[[ 0. -0.  0.  0.]\n",
            " [ 0.  0.  0. -0.]\n",
            " [-0.  0.  0.  0.]\n",
            " [-0. -0.  0. -0.]]\n",
            "[[ 0. -0.  0.  0.]\n",
            " [ 0.  0.  0. -0.]\n",
            " [-0.  0.  0. 82.]\n",
            " [-0. -0.  0. -0.]]\n",
            "[[   0.   -0.    0.    0.]\n",
            " [   0.    0.    0.   -0.]\n",
            " [  -0.    0.    0.    0.]\n",
            " [-158.   -0.    0.   -0.]]\n",
            "[[  0.  -0.   0.   0.]\n",
            " [  0.   0.   0.  -0.]\n",
            " [ -0.   0.   0.   0.]\n",
            " [ -0. -80.   0.  -0.]]\n",
            "[[ 0. -0.  0.  0.]\n",
            " [ 0.  0.  0. -0.]\n",
            " [-0.  0.  0.  0.]\n",
            " [-0. -0.  0. -0.]]\n",
            "[[   0.   -0.    0.    0.]\n",
            " [   0.    0.    0.   -0.]\n",
            " [  -0.    0.    0.    0.]\n",
            " [  -0.   -0.    0. -122.]]\n"
          ]
        }
      ],
      "source": [
        "# print all the pages of CLST, which show magnitude and position (horizontal and vertical frequency)\n",
        "# of 2d square wavelets involved in making c\n",
        "for i in range(S**2):\n",
        "    print( CLST[:,:,i] )"
      ]
    },
    {
      "cell_type": "code",
      "execution_count": null,
      "id": "a7c9f0ea-453a-4225-a83f-2a13052ceb0d",
      "metadata": {
        "id": "a7c9f0ea-453a-4225-a83f-2a13052ceb0d",
        "outputId": "5360f3f5-9feb-4e3c-824a-f5980f4d4859"
      },
      "outputs": [
        {
          "data": {
            "image/png": "[encoded data removed]",
            "text/plain": [
              "<Figure size 400x400 with 16 Axes>"
            ]
          },
          "metadata": {},
          "output_type": "display_data"
        }
      ],
      "source": [
        "# showing different pages of clst\n",
        "fig, axes = plt.subplots(nrows=S, ncols=S, figsize=(S,S))\n",
        "\n",
        "# Flatten the array of axes for easy iteration\n",
        "axes = axes.ravel()\n",
        "\n",
        "# Display each image in the corresponding subplot\n",
        "for i in range(S**2):\n",
        "    norm = plt.Normalize(vmin=np.min(clst[:,:,i]), vmax=np.max(clst[:,:,i]))\n",
        "    axes[i].imshow(clst[:,:,i], cmap='gray', interpolation='nearest')\n",
        "    axes[i].axis('off')  # Hide the axes\n",
        "\n",
        "# Adjust layout and display the grid\n",
        "plt.tight_layout()\n",
        "plt.show()"
      ]
    },
    {
      "cell_type": "code",
      "execution_count": null,
      "id": "70e67210-1b67-4d5d-adea-aae17bf33252",
      "metadata": {
        "id": "70e67210-1b67-4d5d-adea-aae17bf33252",
        "outputId": "e3cc81d6-66e4-4620-d15d-3150477d65e0"
      },
      "outputs": [
        {
          "data": {
            "image/png": "[encoded data removed]",
            "text/plain": [
              "<Figure size 600x600 with 16 Axes>"
            ]
          },
          "metadata": {},
          "output_type": "display_data"
        },
        {
          "data": {
            "image/png": "[encoded data removed]",
            "text/plain": [
              "<Figure size 640x480 with 1 Axes>"
            ]
          },
          "metadata": {},
          "output_type": "display_data"
        }
      ],
      "source": [
        "# cumulative recomposition of c by adding all the pages of clst together\n",
        "# we show the final result once again in larger size at the end\n",
        "fig, axes = plt.subplots(S, S, figsize=(6, 6))\n",
        "\n",
        "# Plot each image\n",
        "accom = np.zeros((S,S))\n",
        "for i, ax in enumerate(axes.flat):\n",
        "    accom += clst[:,:,i]\n",
        "    ax.imshow(accom, cmap='gray')  # Show image in grayscale\n",
        "    ax.axis('off')  # Hide axes\n",
        "\n",
        "plt.tight_layout()\n",
        "plt.show()\n",
        "\n",
        "# Flatten the array of axes for easy iteration\n",
        "# Adjust layout and display the grid\n",
        "norm = plt.Normalize(vmin=np.min(accom), vmax=np.max(accom))\n",
        "plt.imshow(accom, cmap='gray', norm=norm, interpolation='nearest')\n",
        "plt.axis('off')  # Hide the axes\n",
        "plt.tight_layout()\n",
        "plt.show()"
      ]
    },
    {
      "cell_type": "code",
      "execution_count": null,
      "id": "74e3ffea-3350-4f6d-86d8-195905d29d6e",
      "metadata": {
        "id": "74e3ffea-3350-4f6d-86d8-195905d29d6e",
        "outputId": "178ec7a5-3895-406a-9dd3-70c38014561b"
      },
      "outputs": [
        {
          "data": {
            "image/png": "[encoded data removed]",
            "text/plain": [
              "<Figure size 600x600 with 16 Axes>"
            ]
          },
          "metadata": {},
          "output_type": "display_data"
        }
      ],
      "source": [
        "# Trivia: visualization of different pages of CLST\n",
        "fig, axes = plt.subplots(S, S, figsize=(6, 6))\n",
        "\n",
        "# Plot each image\n",
        "for i, ax in enumerate(axes.flat):\n",
        "    ax.imshow(CLST[:,:,i], cmap='gray')  # Show image in grayscale\n",
        "    ax.axis('off')  # Hide axes\n",
        "\n",
        "plt.tight_layout()\n",
        "plt.show()"
      ]
    },
    {
      "cell_type": "code",
      "execution_count": null,
      "id": "c16c759c-1e45-4ed7-ad53-12a77b4714f6",
      "metadata": {
        "id": "c16c759c-1e45-4ed7-ad53-12a77b4714f6"
      },
      "outputs": [],
      "source": []
    },
    {
      "cell_type": "code",
      "execution_count": null,
      "id": "90e27e27-a749-4a91-9249-bee791f46216",
      "metadata": {
        "id": "90e27e27-a749-4a91-9249-bee791f46216"
      },
      "outputs": [],
      "source": []
    }
  ],
  "metadata": {
    "kernelspec": {
      "display_name": "compvis",
      "language": "python",
      "name": "python3"
    },
    "language_info": {
      "codemirror_mode": {
        "name": "ipython",
        "version": 3
      },
      "file_extension": ".py",
      "mimetype": "text/x-python",
      "name": "python",
      "nbconvert_exporter": "python",
      "pygments_lexer": "ipython3",
      "version": "3.10.7"
    },
    "colab": {
      "provenance": [],
      "include_colab_link": true
    }
  },
  "nbformat": 4,
  "nbformat_minor": 5
}